{
 "cells": [
  {
   "cell_type": "code",
   "execution_count": 2,
   "id": "47ebdb6a-3f9f-402c-86b9-b86207469497",
   "metadata": {
    "tags": []
   },
   "outputs": [],
   "source": [
    "# Data Science Tools and Ecosystem"
   ]
  },
  {
   "cell_type": "code",
   "execution_count": 2,
   "id": "d5fd25d7-8642-4dca-bde5-84c667e1ea31",
   "metadata": {
    "tags": []
   },
   "outputs": [],
   "source": [
    "# In this notebook, Data Science Tools and Ecosystem are summarized,\n",
    "#providing an overview of the essential tools and frameworks used in the field of data science.\n"
   ]
  },
  {
   "cell_type": "code",
   "execution_count": 17,
   "id": "75116710-2cff-4aea-b8a4-e7ced6367ecc",
   "metadata": {
    "tags": []
   },
   "outputs": [],
   "source": [
    "### Objectives:"
   ]
  },
  {
   "cell_type": "code",
   "execution_count": 18,
   "id": "2321bff3-5540-47f7-a971-6e1de75c2a73",
   "metadata": {
    "tags": []
   },
   "outputs": [
    {
     "name": "stdout",
     "output_type": "stream",
     "text": [
      "- Languages in Data Science\n",
      "- Libraries in Data Science\n",
      "- Tools in Data Science\n",
      "- Markdown Table\n",
      "- Arithmetic Expressions\n",
      "\n"
     ]
    }
   ],
   "source": [
    "\n",
    "# Unordered list for objectives\n",
    "Objectives = [\n",
    "    \"- Languages in Data Science\\n\"\n",
    "    \"- Libraries in Data Science\\n\"\n",
    "    \"- Tools in Data Science\\n\"\n",
    "    \"- Markdown Table\\n\"\n",
    "    \"- Arithmetic Expressions\\n\"\n",
    "]\n",
    "# Print the list\n",
    "for objective in Objectives:\n",
    "    print(objective)\n"
   ]
  },
  {
   "cell_type": "code",
   "execution_count": 5,
   "id": "623a31e4-23f1-4fd6-b725-1e7a1a121aca",
   "metadata": {
    "tags": []
   },
   "outputs": [
    {
     "name": "stdout",
     "output_type": "stream",
     "text": [
      "Some of the popular languages that Data Scientists use are:\n",
      "\n",
      "1. Python\n",
      "2. R\n",
      "3. SQL\n",
      "4. Julia\n",
      "\n"
     ]
    }
   ],
   "source": [
    "\n",
    "print(\"Some of the popular languages that Data Scientists use are:\\n\")\n",
    "\n",
    "# Ordered list of commonly used languages\n",
    "languages = [\n",
    "    \"1. Python\\n\"\n",
    "    \"2. R\\n\"\n",
    "    \"3. SQL\\n\"\n",
    "    \"4. Julia\\n\"\n",
    "]\n",
    "# Print the list\n",
    "for language in languages:\n",
    "    print(language)\n"
   ]
  },
  {
   "cell_type": "code",
   "execution_count": 8,
   "id": "60a5e6c5-d606-4cf7-b48e-862c4b83f551",
   "metadata": {
    "tags": []
   },
   "outputs": [
    {
     "name": "stdout",
     "output_type": "stream",
     "text": [
      "Some of the commonly used libraries used by Data Scientists include:\n",
      "\n",
      "1.Pandas\n",
      "2.NumPy\n",
      "3.Scikit-learn\n",
      "4.Matplotlib\n",
      "5.TensorFlow\n",
      "\n"
     ]
    }
   ],
   "source": [
    "print(\"Some of the commonly used libraries used by Data Scientists include:\\n\")\n",
    "\n",
    "libraries = [\n",
    "\"1.Pandas\\n\" \n",
    "\"2.NumPy\\n\"\n",
    "\"3.Scikit-learn\\n\"\n",
    "\"4.Matplotlib\\n\"\n",
    "\"5.TensorFlow\\n\" \n",
    "]\n",
    "for library in libraries:\n",
    "    print(library)"
   ]
  },
  {
   "cell_type": "code",
   "execution_count": 9,
   "id": "27f13868-2c09-4b8d-86f8-97426dc1d520",
   "metadata": {
    "tags": []
   },
   "outputs": [
    {
     "data": {
      "text/markdown": [
       "\n",
       "| Data Science Tools       |\n",
       "|--------------------------|\n",
       "| Jupyter Notebook          |\n",
       "| RStudio                   |\n",
       "| Apache Zeppelin           |\n"
      ],
      "text/plain": [
       "<IPython.core.display.Markdown object>"
      ]
     },
     "metadata": {},
     "output_type": "display_data"
    }
   ],
   "source": [
    "from IPython.display import display, Markdown\n",
    "\n",
    "# Markdown for the table of Data Science tools\n",
    "markdown_table = \"\"\"\n",
    "| Data Science Tools       |\n",
    "|--------------------------|\n",
    "| Jupyter Notebook          |\n",
    "| RStudio                   |\n",
    "| Apache Zeppelin           |\n",
    "\"\"\"\n",
    "\n",
    "# Display the markdown table\n",
    "display(Markdown(markdown_table))\n"
   ]
  },
  {
   "cell_type": "code",
   "execution_count": 10,
   "id": "3ed6bb2c-c1cc-491b-aaac-5bd1f6086d0a",
   "metadata": {
    "tags": []
   },
   "outputs": [],
   "source": [
    "# Arithmetic Expression Examples\n",
    "\n",
    "### Below are a few examples of evaluating arithmetic expressions in Python.\n"
   ]
  },
  {
   "cell_type": "code",
   "execution_count": 11,
   "id": "618848ab-887d-4305-b608-b4da8a372182",
   "metadata": {
    "tags": []
   },
   "outputs": [
    {
     "name": "stdout",
     "output_type": "stream",
     "text": [
      "17\n"
     ]
    }
   ],
   "source": [
    "# This is a simple arithmetic expression to multiply then add integers.\n",
    "result = (3 * 4) + 5\n",
    "print(result)  # This should return 17\n"
   ]
  },
  {
   "cell_type": "code",
   "execution_count": 12,
   "id": "c774c8a4-49f7-4fd7-81ef-3806c0a94027",
   "metadata": {
    "tags": []
   },
   "outputs": [
    {
     "name": "stdout",
     "output_type": "stream",
     "text": [
      "3.3333333333333335\n"
     ]
    }
   ],
   "source": [
    "# This will convert 200 minutes to hours by dividing by 60\n",
    "hours = 200 / 60\n",
    "print(hours)\n"
   ]
  },
  {
   "cell_type": "code",
   "execution_count": null,
   "id": "ceed6251-b167-4df7-870b-09845f241dd7",
   "metadata": {},
   "outputs": [],
   "source": [
    "## Author\n",
    "Sheetal Panda"
   ]
  }
 ],
 "metadata": {
  "kernelspec": {
   "display_name": "Python",
   "language": "python",
   "name": "conda-env-python-py"
  },
  "language_info": {
   "codemirror_mode": {
    "name": "ipython",
    "version": 3
   },
   "file_extension": ".py",
   "mimetype": "text/x-python",
   "name": "python",
   "nbconvert_exporter": "python",
   "pygments_lexer": "ipython3",
   "version": "3.7.12"
  }
 },
 "nbformat": 4,
 "nbformat_minor": 5
}
